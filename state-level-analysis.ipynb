{
 "cells": [
  {
   "cell_type": "markdown",
   "metadata": {},
   "source": [
    "# COVID-19 State Level Data\n",
    "## Description\n",
    "### Summarizing States\n",
    "For cases and deaths related to COVID-19, function `state_summary` creates 3 graphs for state named in `state_to_graph`.  These 3 graphs are\n",
    "\n",
    "* Cumulative COVID-19 Totals by Day\n",
    "* Daily Increase in COVID-19 Totals by Day\n",
    "* Death Probability of COVID-19 by Day"
   ]
  },
  {
   "cell_type": "code",
   "execution_count": null,
   "metadata": {},
   "outputs": [],
   "source": [
    "state_to_graph = 'Massachusetts'"
   ]
  },
  {
   "cell_type": "markdown",
   "metadata": {},
   "source": [
    "### Comparing States\n",
    "Function `compare_states` creates 9 graphs and plots one line for each state in `states_to_compare`.  These 9 graphs are\n",
    "\n",
    "* Cumulative Cases by Day\n",
    "* Cumulative Cases by Day (Normalized by Population)\n",
    "* Cumulative Deaths by Day\n",
    "* Cumulative Deaths by Day (Normalized by Population)\n",
    "* New Cases by Day\n",
    "* New Cases by Day (Normalized by Population)\n",
    "* New Deaths by Day\n",
    "* New Deaths by Day (Normalized by Population)\n",
    "* Death Probability by Day"
   ]
  },
  {
   "cell_type": "code",
   "execution_count": null,
   "metadata": {},
   "outputs": [],
   "source": [
    "states_to_compare = [\n",
    "    'Massachusetts',\n",
    "    'Maine',\n",
    "    'New Hampshire',\n",
    "    'Vermont',\n",
    "    'Connecticut',\n",
    "    'Rhode Island'\n",
    "]"
   ]
  },
  {
   "cell_type": "markdown",
   "metadata": {},
   "source": [
    "## Dataset Building\n",
    "### Adding NYTimes data"
   ]
  },
  {
   "cell_type": "code",
   "execution_count": null,
   "metadata": {},
   "outputs": [],
   "source": [
    "import matplotlib.pyplot as plt\n",
    "import io\n",
    "import pandas as pd\n",
    "import requests\n",
    "\n",
    "from datetime import timedelta\n",
    "from pandas.plotting import register_matplotlib_converters"
   ]
  },
  {
   "cell_type": "code",
   "execution_count": null,
   "metadata": {},
   "outputs": [],
   "source": [
    "states_url = 'https://raw.githubusercontent.com/nytimes/covid-19-data/master/us-states.csv'\n",
    "s=requests.get(states_url).content\n",
    "states=pd.read_csv(io.StringIO(s.decode('utf-8')))"
   ]
  },
  {
   "cell_type": "code",
   "execution_count": null,
   "metadata": {},
   "outputs": [],
   "source": [
    "states['date'] = pd.to_datetime(states['date'])\n",
    "states = states.set_index(['state', 'date'])\n",
    "states['yesterday'] = states.index.get_level_values(1) - timedelta(days=1)"
   ]
  },
  {
   "cell_type": "code",
   "execution_count": null,
   "metadata": {
    "scrolled": true
   },
   "outputs": [],
   "source": [
    "# joining states with itself to relate today's data to yesterday's\n",
    "states = states.join(\n",
    "    other=states,\n",
    "    on=[states.index.get_level_values(0).to_series(), states['yesterday']],\n",
    "    how='left',\n",
    "    rsuffix='_yesterday'\n",
    ")"
   ]
  },
  {
   "cell_type": "code",
   "execution_count": null,
   "metadata": {},
   "outputs": [],
   "source": [
    "states['new_cases'] = states['cases'] - states['cases_yesterday']\n",
    "states['new_deaths'] = states['deaths'] - states['deaths_yesterday']\n",
    "states['death_probability'] = states['deaths']/states['cases']"
   ]
  },
  {
   "cell_type": "code",
   "execution_count": null,
   "metadata": {},
   "outputs": [],
   "source": [
    "# removing junk columns\n",
    "states = states.drop(['yesterday', 'fips_yesterday', 'cases_yesterday', 'deaths_yesterday', 'yesterday_yesterday'], axis=1)"
   ]
  },
  {
   "cell_type": "code",
   "execution_count": null,
   "metadata": {},
   "outputs": [],
   "source": [
    "states = states.reset_index()"
   ]
  },
  {
   "cell_type": "code",
   "execution_count": null,
   "metadata": {
    "scrolled": true
   },
   "outputs": [],
   "source": [
    "states.head()"
   ]
  },
  {
   "cell_type": "markdown",
   "metadata": {},
   "source": [
    "### Adding Population Data"
   ]
  },
  {
   "cell_type": "code",
   "execution_count": null,
   "metadata": {},
   "outputs": [],
   "source": [
    "populations = pd.read_csv('state-population.csv')\n",
    "populations = populations.set_index('state')"
   ]
  },
  {
   "cell_type": "code",
   "execution_count": null,
   "metadata": {
    "scrolled": false
   },
   "outputs": [],
   "source": [
    "populations.head()"
   ]
  },
  {
   "cell_type": "code",
   "execution_count": null,
   "metadata": {},
   "outputs": [],
   "source": [
    "states = states.join(\n",
    "    other=populations,\n",
    "    on=states['state'],\n",
    "    how='left'\n",
    ")"
   ]
  },
  {
   "cell_type": "code",
   "execution_count": null,
   "metadata": {
    "scrolled": false
   },
   "outputs": [],
   "source": [
    "states.head()"
   ]
  },
  {
   "cell_type": "code",
   "execution_count": null,
   "metadata": {},
   "outputs": [],
   "source": [
    "# Normalizing cases/deaths/new_cases/new_deaths by Population\n",
    "states['cases_normalized'] = states['cases']/states['population']\n",
    "states['deaths_normalized'] = states['deaths']/states['population']\n",
    "states['new_cases_normalized'] = states['new_cases']/states['population']\n",
    "states['new_deaths_normalized'] = states['new_deaths']/states['population']"
   ]
  },
  {
   "cell_type": "markdown",
   "metadata": {},
   "source": [
    "## Analysis"
   ]
  },
  {
   "cell_type": "code",
   "execution_count": null,
   "metadata": {},
   "outputs": [],
   "source": [
    "def get_state_df(chosen_state):\n",
    "    return states[states['state'] == chosen_state]"
   ]
  },
  {
   "cell_type": "code",
   "execution_count": null,
   "metadata": {},
   "outputs": [],
   "source": [
    "def state_summary(chosen_state): \n",
    "    my_state = get_state_df(chosen_state)\n",
    "    max_date_str = max(states['date']).strftime('%Y-%m-%d')\n",
    "    # cumulative\n",
    "    plt.plot(my_state['date'], my_state['cases'], 'red')\n",
    "    plt.plot(my_state['date'], my_state['deaths'], 'black')\n",
    "    plt.legend(['cases', 'deaths'])\n",
    "    plt.xticks(rotation=45)\n",
    "    plt.title('Cumulative COVID-19 Totals in '+chosen_state+'\\nData as of '+max_date_str)\n",
    "    plt.show()\n",
    "    # daily increase\n",
    "    plt.plot(my_state['date'], my_state['new_cases'], 'red')\n",
    "    plt.plot(my_state['date'], my_state['new_deaths'], 'black')\n",
    "    plt.legend(['cases', 'deaths'])\n",
    "    plt.title('Daily Increase in COVID-19 Totals in '+chosen_state+'\\nData as of '+max_date_str)\n",
    "    plt.xticks(rotation=45)\n",
    "    plt.show()\n",
    "    # death probability\n",
    "    plt.plot(my_state['date'], my_state['death_probability'], 'black')\n",
    "    plt.title('Death Probability of COVID-19 in '+chosen_state+'\\nData as of '+max_date_str)\n",
    "    plt.xticks(rotation=45)\n",
    "    plt.show()"
   ]
  },
  {
   "cell_type": "code",
   "execution_count": null,
   "metadata": {},
   "outputs": [],
   "source": [
    "def compare_states(state_names):\n",
    "    metrics = [\n",
    "        'cases',\n",
    "        'cases_normalized',\n",
    "        'deaths',\n",
    "        'deaths_normalized',\n",
    "        'new_cases',\n",
    "        'new_cases_normalized',\n",
    "        'new_deaths',\n",
    "        'new_deaths_normalized',\n",
    "        'death_probability'\n",
    "    ]\n",
    "    max_date_str = max(states['date']).strftime('%Y-%m-%d')\n",
    "    for metric in metrics:\n",
    "        for chosen_state in state_names:\n",
    "            state_df = get_state_df(chosen_state)\n",
    "            plt.plot(state_df['date'], state_df[metric])\n",
    "        plt.legend(state_names)\n",
    "        plt.xticks(rotation=45)\n",
    "        plt.title('COVID-19 '+metric+'\\nData as of '+max_date_str)\n",
    "        plt.show()"
   ]
  },
  {
   "cell_type": "markdown",
   "metadata": {},
   "source": [
    "## Graphs"
   ]
  },
  {
   "cell_type": "code",
   "execution_count": null,
   "metadata": {
    "scrolled": false
   },
   "outputs": [],
   "source": [
    "state_summary(state_to_graph)"
   ]
  },
  {
   "cell_type": "code",
   "execution_count": null,
   "metadata": {
    "scrolled": true
   },
   "outputs": [],
   "source": [
    "compare_states(states_to_compare)"
   ]
  }
 ],
 "metadata": {
  "kernelspec": {
   "display_name": "Python 3",
   "language": "python",
   "name": "python3"
  },
  "language_info": {
   "codemirror_mode": {
    "name": "ipython",
    "version": 3
   },
   "file_extension": ".py",
   "mimetype": "text/x-python",
   "name": "python",
   "nbconvert_exporter": "python",
   "pygments_lexer": "ipython3",
   "version": "3.7.3"
  }
 },
 "nbformat": 4,
 "nbformat_minor": 2
}
